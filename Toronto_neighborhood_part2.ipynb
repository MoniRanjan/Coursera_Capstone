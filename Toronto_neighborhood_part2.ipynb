{
 "cells": [
  {
   "cell_type": "markdown",
   "metadata": {},
   "source": [
    "## Introduction\n",
    "\n",
    "This notebook is used to demonstrate how to explore, segment, and cluster the neighborhoods in the city of Toronto."
   ]
  },
  {
   "cell_type": "markdown",
   "metadata": {},
   "source": [
    "##### Download the dependent packages and libraries"
   ]
  },
  {
   "cell_type": "code",
   "execution_count": 1,
   "metadata": {
    "collapsed": false
   },
   "outputs": [
    {
     "name": "stdout",
     "output_type": "stream",
     "text": [
      "Solving environment: done\n",
      "\n",
      "## Package Plan ##\n",
      "\n",
      "  environment location: /home/jupyterlab/conda\n",
      "\n",
      "  added / updated specs: \n",
      "    - geopy\n",
      "\n",
      "\n",
      "The following packages will be downloaded:\n",
      "\n",
      "    package                    |            build\n",
      "    ---------------------------|-----------------\n",
      "    geopy-1.18.1               |             py_0          51 KB  conda-forge\n",
      "    geographiclib-1.49         |             py_0          32 KB  conda-forge\n",
      "    ------------------------------------------------------------\n",
      "                                           Total:          84 KB\n",
      "\n",
      "The following NEW packages will be INSTALLED:\n",
      "\n",
      "    geographiclib: 1.49-py_0     conda-forge\n",
      "\n",
      "The following packages will be UPDATED:\n",
      "\n",
      "    geopy:         1.11.0-py36_0 conda-forge --> 1.18.1-py_0 conda-forge\n",
      "\n",
      "\n",
      "Downloading and Extracting Packages\n",
      "geopy-1.18.1         | 51 KB     | ##################################### | 100% \n",
      "geographiclib-1.49   | 32 KB     | ##################################### | 100% \n",
      "Preparing transaction: done\n",
      "Verifying transaction: done\n",
      "Executing transaction: done\n",
      "Solving environment: done\n",
      "\n",
      "# All requested packages already installed.\n",
      "\n",
      "Libraries imported!\n"
     ]
    }
   ],
   "source": [
    "import numpy as np # handling data in vectorized manner\n",
    "\n",
    "import pandas as pd #for data analysis\n",
    "pd.set_option('display.max_columns',None)\n",
    "pd.set_option('display.max_rows',None)\n",
    "\n",
    "import json\n",
    "\n",
    "!conda install -c conda-forge geopy --yes\n",
    "from geopy.geocoders import Nominatim # to get latitude and logitute by giving address\n",
    "\n",
    "import requests\n",
    "from pandas.io.json import json_normalize # transform json file into pandas dataframe\n",
    "\n",
    "#import matplotlib modules\n",
    "import matplotlib.cm as cm\n",
    "import matplotlib.colors as colors\n",
    "\n",
    "#import k-means for clustering stage\n",
    "from sklearn.cluster import KMeans\n",
    "\n",
    "!conda install -c conda-forge folium=0.5.0 --yes\n",
    "import folium\n",
    "\n",
    "print('Libraries imported!')"
   ]
  },
  {
   "cell_type": "markdown",
   "metadata": {},
   "source": [
    "##### Read and get data from wikipedia into dataframe which will consist of ***three columns: PostalCode, Borough, and Neighborhood***"
   ]
  },
  {
   "cell_type": "code",
   "execution_count": 2,
   "metadata": {
    "collapsed": false
   },
   "outputs": [
    {
     "name": "stdout",
     "output_type": "stream",
     "text": [
      "  Postcode       Borough Neighbourhood\n",
      "0      M1A  Not assigned  Not assigned\n",
      "\n",
      "   PostalCode           Borough      Neighborhood\n",
      "0         M1A      Not assigned      Not assigned\n",
      "1         M2A      Not assigned      Not assigned\n",
      "2         M3A        North York         Parkwoods\n",
      "3         M4A        North York  Victoria Village\n",
      "4         M5A  Downtown Toronto      Harbourfront\n",
      "5         M5A  Downtown Toronto       Regent Park\n",
      "6         M6A        North York  Lawrence Heights\n",
      "7         M6A        North York    Lawrence Manor\n",
      "8         M7A      Queen's Park      Not assigned\n",
      "9         M8A      Not assigned      Not assigned\n",
      "10        M9A         Etobicoke  Islington Avenue\n",
      "11        M1B       Scarborough             Rouge\n",
      "12        M1B       Scarborough           Malvern\n",
      "13        M2B      Not assigned      Not assigned\n",
      "14        M3B        North York   Don Mills North\n",
      "\n",
      "289\n"
     ]
    }
   ],
   "source": [
    "#get the data from wikipedia into pandas dataframe\n",
    "url = 'https://en.wikipedia.org/wiki/List_of_postal_codes_of_Canada:_M'\n",
    "dfs_toronto = pd.read_html(url,header=0)\n",
    "\n",
    "# get the dataframe from the dataframe list\n",
    "df_toronto=dfs_toronto[0]\n",
    "print(df_toronto.head(1))\n",
    "print()\n",
    "\n",
    "# set the column names\n",
    "df_toronto.columns=['PostalCode','Borough','Neighborhood']\n",
    "\n",
    "#check data and row count\n",
    "print(df_toronto.head(15))\n",
    "print()\n",
    "print( df_toronto.shape[0])\n"
   ]
  },
  {
   "cell_type": "markdown",
   "metadata": {},
   "source": [
    "##### Only process the cells that have an assigned borough. Ignore cells with a borough that is ***Not assigned***"
   ]
  },
  {
   "cell_type": "code",
   "execution_count": 3,
   "metadata": {
    "collapsed": false
   },
   "outputs": [
    {
     "name": "stdout",
     "output_type": "stream",
     "text": [
      "  PostalCode           Borough      Neighborhood\n",
      "0        M3A        North York         Parkwoods\n",
      "1        M4A        North York  Victoria Village\n",
      "2        M5A  Downtown Toronto      Harbourfront\n",
      "3        M5A  Downtown Toronto       Regent Park\n",
      "4        M6A        North York  Lawrence Heights\n",
      "5        M6A        North York    Lawrence Manor\n",
      "6        M7A      Queen's Park      Not assigned\n",
      "7        M9A         Etobicoke  Islington Avenue\n",
      "8        M1B       Scarborough             Rouge\n",
      "9        M1B       Scarborough           Malvern\n",
      "\n",
      "212\n",
      "\n",
      "    PostalCode    Borough              Neighborhood\n",
      "202        M8Y  Etobicoke                 Mimico NE\n",
      "203        M8Y  Etobicoke            Old Mill South\n",
      "204        M8Y  Etobicoke        The Queensway East\n",
      "205        M8Y  Etobicoke     Royal York South East\n",
      "206        M8Y  Etobicoke                  Sunnylea\n",
      "207        M8Z  Etobicoke  Kingsway Park South West\n",
      "208        M8Z  Etobicoke                 Mimico NW\n",
      "209        M8Z  Etobicoke        The Queensway West\n",
      "210        M8Z  Etobicoke     Royal York South West\n",
      "211        M8Z  Etobicoke            South of Bloor\n"
     ]
    }
   ],
   "source": [
    "# ignore rows where borough is Not assigned \n",
    "missing_borough=['Not assigned']\n",
    "\n",
    "#removing the Not assigned Borough data in place\n",
    "df_toronto = df_toronto[~df_toronto['Borough'].isin(missing_borough)].reset_index(drop=True)\n",
    "\n",
    "#check result and row count\n",
    "print(df_toronto.head(10))\n",
    "print()\n",
    "print(df_toronto.shape[0])\n",
    "print()\n",
    "print(df_toronto.tail(10))"
   ]
  },
  {
   "cell_type": "markdown",
   "metadata": {},
   "source": [
    "##### Combine into ***one row all neighbourhoods seperated by comma, which belong to the same postal code area***"
   ]
  },
  {
   "cell_type": "code",
   "execution_count": 4,
   "metadata": {
    "collapsed": false
   },
   "outputs": [
    {
     "name": "stdout",
     "output_type": "stream",
     "text": [
      "(103, 3)\n",
      "  PostalCode           Borough                      Neighborhood\n",
      "0        M3A        North York                         Parkwoods\n",
      "1        M4A        North York                  Victoria Village\n",
      "2        M5A  Downtown Toronto         Harbourfront, Regent Park\n",
      "3        M6A        North York  Lawrence Heights, Lawrence Manor\n",
      "4        M7A      Queen's Park                      Not assigned\n",
      "5        M9A         Etobicoke                  Islington Avenue\n",
      "6        M1B       Scarborough                    Rouge, Malvern\n",
      "7        M3B        North York                   Don Mills North\n",
      "8        M4B         East York   Woodbine Gardens, Parkview Hill\n",
      "9        M5B  Downtown Toronto          Ryerson, Garden District\n",
      "    PostalCode           Borough  \\\n",
      "93         M8W         Etobicoke   \n",
      "94         M9W         Etobicoke   \n",
      "95         M1X       Scarborough   \n",
      "96         M4X  Downtown Toronto   \n",
      "97         M5X  Downtown Toronto   \n",
      "98         M8X         Etobicoke   \n",
      "99         M4Y  Downtown Toronto   \n",
      "100        M7Y      East Toronto   \n",
      "101        M8Y         Etobicoke   \n",
      "102        M8Z         Etobicoke   \n",
      "\n",
      "                                          Neighborhood  \n",
      "93                              Alderwood, Long Branch  \n",
      "94                                           Northwest  \n",
      "95                                         Upper Rouge  \n",
      "96                         Cabbagetown, St. James Town  \n",
      "97              First Canadian Place, Underground city  \n",
      "98       The Kingsway, Montgomery Road, Old Mill North  \n",
      "99                                Church and Wellesley  \n",
      "100  Business Reply Mail Processing Centre 969 Eastern  \n",
      "101  Humber Bay, King's Mill Park, Kingsway Park So...  \n",
      "102  Kingsway Park South West, Mimico NW, The Queen...  \n"
     ]
    }
   ],
   "source": [
    "df_toronto_new=pd.DataFrame( df_toronto.groupby(['PostalCode','Borough'], sort=False)['Neighborhood'].apply(lambda x: ', '.join(x)).reset_index(name='Neighborhood'))\n",
    "print(df_toronto_new.shape)\n",
    "print(df_toronto_new.head(10))\n",
    "print(df_toronto_new.tail(10))"
   ]
  },
  {
   "cell_type": "markdown",
   "metadata": {},
   "source": [
    "##### Do the following conversion: If a cell has a borough but a ***Not assigned neighborhood***, then ***the neighborhood will be the same as the borough***"
   ]
  },
  {
   "cell_type": "code",
   "execution_count": 5,
   "metadata": {
    "collapsed": true
   },
   "outputs": [
    {
     "name": "stdout",
     "output_type": "stream",
     "text": [
      "(103, 3)\n",
      "  PostalCode           Borough                      Neighborhood\n",
      "0        M3A        North York                         Parkwoods\n",
      "1        M4A        North York                  Victoria Village\n",
      "2        M5A  Downtown Toronto         Harbourfront, Regent Park\n",
      "3        M6A        North York  Lawrence Heights, Lawrence Manor\n",
      "4        M7A      Queen's Park                      Queen's Park\n",
      "5        M9A         Etobicoke                  Islington Avenue\n",
      "6        M1B       Scarborough                    Rouge, Malvern\n",
      "7        M3B        North York                   Don Mills North\n",
      "8        M4B         East York   Woodbine Gardens, Parkview Hill\n",
      "9        M5B  Downtown Toronto          Ryerson, Garden District\n"
     ]
    }
   ],
   "source": [
    "df_toronto_new['Neighborhood'] = np.where(df_toronto_new['Neighborhood'] == 'Not assigned', df_toronto_new['Borough'], df_toronto_new['Neighborhood'])\n",
    "print(df_toronto_new.shape)\n",
    "print(df_toronto_new.head(10))\n"
   ]
  },
  {
   "cell_type": "markdown",
   "metadata": {},
   "source": [
    "##### Display the ***number of rows in the dataframe***"
   ]
  },
  {
   "cell_type": "code",
   "execution_count": 6,
   "metadata": {
    "collapsed": false
   },
   "outputs": [
    {
     "name": "stdout",
     "output_type": "stream",
     "text": [
      "Number of rows and columns in the dataframe=  (103, 3)\n"
     ]
    }
   ],
   "source": [
    "print(\"Number of rows and columns in the dataframe= \", df_toronto_new.shape)"
   ]
  },
  {
   "cell_type": "markdown",
   "metadata": {},
   "source": [
    "##### Download the  csv file that has the geographical coordinates of each postal code"
   ]
  },
  {
   "cell_type": "code",
   "execution_count": 8,
   "metadata": {},
   "outputs": [
    {
     "name": "stdout",
     "output_type": "stream",
     "text": [
      "--2019-01-23 19:11:18--  http://cocl.us/Geospatial_data\n",
      "Resolving cocl.us (cocl.us)... 169.48.113.201\n",
      "Connecting to cocl.us (cocl.us)|169.48.113.201|:80... connected.\n",
      "HTTP request sent, awaiting response... 301 Moved Permanently\n",
      "Location: https://cocl.us/Geospatial_data [following]\n",
      "--2019-01-23 19:11:18--  https://cocl.us/Geospatial_data\n",
      "Connecting to cocl.us (cocl.us)|169.48.113.201|:443... connected.\n",
      "HTTP request sent, awaiting response... 301 Moved Permanently\n",
      "Location: https://ibm.box.com/shared/static/9afzr83pps4pwf2smjjcf1y5mvgb18rr.csv [following]\n",
      "--2019-01-23 19:11:19--  https://ibm.box.com/shared/static/9afzr83pps4pwf2smjjcf1y5mvgb18rr.csv\n",
      "Resolving ibm.box.com (ibm.box.com)... 107.152.27.197\n",
      "Connecting to ibm.box.com (ibm.box.com)|107.152.27.197|:443... connected.\n",
      "HTTP request sent, awaiting response... 301 Moved Permanently\n",
      "Location: https://ibm.ent.box.com/shared/static/9afzr83pps4pwf2smjjcf1y5mvgb18rr.csv [following]\n",
      "--2019-01-23 19:11:19--  https://ibm.ent.box.com/shared/static/9afzr83pps4pwf2smjjcf1y5mvgb18rr.csv\n",
      "Resolving ibm.ent.box.com (ibm.ent.box.com)... 107.152.26.211\n",
      "Connecting to ibm.ent.box.com (ibm.ent.box.com)|107.152.26.211|:443... connected.\n",
      "HTTP request sent, awaiting response... 302 Found\n",
      "Location: https://public.boxcloud.com/d/1/b1!6OxUUkyw60VkXdhXOjiMwEsknnecI69-JmS_ooNxGb64L6PAZeBqcUBGY5_FTpCXzjT8nDNPKbiBbroyCMT_qN-JqXmgLuuOFjtlj47zd0g7XN9SbalNo3u15X5kBRcWroE2gitJOIcAzkPMyXWxPnGaXjUrYQGsw8Q08pVQssDQJxQQCTNtmIrDDDGRYMXOt1o84bit3HAm6Wnkq738YhaxaJPQs3GSF244y0ureknM2CIzTzVu-1xYGM8PJFOs5TUecjTMPgikBcffS1PiZztWJg17z-kTivSRoVes2Au0QcXGERv4Khwo8nC30R9TbbfTmfAhBeaDCYa_tlWNvFnafxV7jnP7iOmmJ_IiKHPjqwYfy7vo9IHXMeXE7ay6_8EVuPGb1FWvQlh7eDz6-G6NBICWgQixSPU4vH8gAlhSNYsOXls6g9l39f20QRTRfCMAOmvqFFxsXLTQWS2xPoybHhC_u736OwWcAYWDRpS3F2C9yzzB-iDKlgEX-ntwUDRtyXo9t2RvB0z2Wun0M34OIEo_4SySfXoPVC8_baVvOt2kuub7T0x7kBt4h5UmtjLcitq5KpA_3LI2LVxCJ3wgq250hdC3xvckATFEqo-ljvPkeDJTwxIPzj_H1WDWEXi5umeDgdd1bh780XLEb3HbZIA5e6xWrDmReLAyK8oyQxX6B8FLk8u-vhzW2gOxlsCAeIqak39CMJgGOHDkJ8U8bfhmvqAyvW18QPxYTK1nqllvr6QlC8Ark0574jIMtWwJYbIGNdIgfiFusCx0RhOFiJ9irz_VSnr-p3YBWFtUnC5Xq5ffXpiWq-DQ1wAouAxK9SydU-_ZwYVvkaxvKagbm9NY_GaBk8RLEYmUjFpbjJJszZitL9mFl35PZpAPlygr6_Vc4Wc9b2Xpmt4R0RXf8Mycr5fFfd0x9fYHabgMEq2ZPwTkhncydODuECcfrKSGi3LjdC1C36kE3LsDObzJyHXKuE9TG3bApQbNUU7bQD_C-VHi3pSiUqecQ70z13qhwBthiqWi_j-z91rBFLM1_ph0V_5Z4QpM5MH9-2yUwC239NTEi8PQTi2ku7BNqEqMMjU70nNCn1V_JPYKMJNYF98ofVDkXhRtIDErb3xkQB2ckmJbQaeq2yxFKwbZ0tc3sooxlLArkhHUutyyg3bbvwI8rIfmjKm1itPnlIPZTkgLu0QxoVe0ju0kc_WrNoIU2G4AHYOgUzSzLlws9Sk4srRxnUuDzg7Ki30w6hE1bZlh88m9GbgQzLkviM3-A8LKZ4A80TobEKy8VVC6p20tOQmUgFV0rrOhR_0mjyTJIj8_OXQ1m40-7K4kYPKHZ3kDDP0Vlt5x2S2AtYL751yqyObOvsqTi5XgSjrMWOYG/download [following]\n",
      "--2019-01-23 19:11:20--  https://public.boxcloud.com/d/1/b1!6OxUUkyw60VkXdhXOjiMwEsknnecI69-JmS_ooNxGb64L6PAZeBqcUBGY5_FTpCXzjT8nDNPKbiBbroyCMT_qN-JqXmgLuuOFjtlj47zd0g7XN9SbalNo3u15X5kBRcWroE2gitJOIcAzkPMyXWxPnGaXjUrYQGsw8Q08pVQssDQJxQQCTNtmIrDDDGRYMXOt1o84bit3HAm6Wnkq738YhaxaJPQs3GSF244y0ureknM2CIzTzVu-1xYGM8PJFOs5TUecjTMPgikBcffS1PiZztWJg17z-kTivSRoVes2Au0QcXGERv4Khwo8nC30R9TbbfTmfAhBeaDCYa_tlWNvFnafxV7jnP7iOmmJ_IiKHPjqwYfy7vo9IHXMeXE7ay6_8EVuPGb1FWvQlh7eDz6-G6NBICWgQixSPU4vH8gAlhSNYsOXls6g9l39f20QRTRfCMAOmvqFFxsXLTQWS2xPoybHhC_u736OwWcAYWDRpS3F2C9yzzB-iDKlgEX-ntwUDRtyXo9t2RvB0z2Wun0M34OIEo_4SySfXoPVC8_baVvOt2kuub7T0x7kBt4h5UmtjLcitq5KpA_3LI2LVxCJ3wgq250hdC3xvckATFEqo-ljvPkeDJTwxIPzj_H1WDWEXi5umeDgdd1bh780XLEb3HbZIA5e6xWrDmReLAyK8oyQxX6B8FLk8u-vhzW2gOxlsCAeIqak39CMJgGOHDkJ8U8bfhmvqAyvW18QPxYTK1nqllvr6QlC8Ark0574jIMtWwJYbIGNdIgfiFusCx0RhOFiJ9irz_VSnr-p3YBWFtUnC5Xq5ffXpiWq-DQ1wAouAxK9SydU-_ZwYVvkaxvKagbm9NY_GaBk8RLEYmUjFpbjJJszZitL9mFl35PZpAPlygr6_Vc4Wc9b2Xpmt4R0RXf8Mycr5fFfd0x9fYHabgMEq2ZPwTkhncydODuECcfrKSGi3LjdC1C36kE3LsDObzJyHXKuE9TG3bApQbNUU7bQD_C-VHi3pSiUqecQ70z13qhwBthiqWi_j-z91rBFLM1_ph0V_5Z4QpM5MH9-2yUwC239NTEi8PQTi2ku7BNqEqMMjU70nNCn1V_JPYKMJNYF98ofVDkXhRtIDErb3xkQB2ckmJbQaeq2yxFKwbZ0tc3sooxlLArkhHUutyyg3bbvwI8rIfmjKm1itPnlIPZTkgLu0QxoVe0ju0kc_WrNoIU2G4AHYOgUzSzLlws9Sk4srRxnUuDzg7Ki30w6hE1bZlh88m9GbgQzLkviM3-A8LKZ4A80TobEKy8VVC6p20tOQmUgFV0rrOhR_0mjyTJIj8_OXQ1m40-7K4kYPKHZ3kDDP0Vlt5x2S2AtYL751yqyObOvsqTi5XgSjrMWOYG/download\n",
      "Resolving public.boxcloud.com (public.boxcloud.com)... 107.152.24.200, 107.152.25.200\n",
      "Connecting to public.boxcloud.com (public.boxcloud.com)|107.152.24.200|:443... connected.\n",
      "HTTP request sent, awaiting response... 200 OK\n",
      "Length: 2891 (2.8K) [text/csv]\n",
      "Saving to: ‘TorontoPostalCodesLL.csv’\n",
      "\n",
      "TorontoPostalCodesL 100%[=====================>]   2.82K  --.-KB/s   in 0s     \n",
      "\n",
      "2019-01-23 19:11:20 (48.7 MB/s) - ‘TorontoPostalCodesLL.csv’ saved [2891/2891]\n",
      "\n",
      "  Postal Code   Latitude  Longitude\n",
      "0         M1B  43.806686 -79.194353\n",
      "(103, 3)\n"
     ]
    }
   ],
   "source": [
    "!wget -O TorontoPostalCodesLL.csv http://cocl.us/Geospatial_data\n",
    "df_toronto_LL = pd.read_csv('TorontoPostalCodesLL.csv')\n",
    "\n",
    "# check the data dowloaded correctly\n",
    "print(df_toronto_LL.head(1))\n",
    "\n",
    "#rename the column names\n",
    "df_toronto_LL.columns=['PostalCode','Latitude','Longitude']\n",
    "\n",
    "# Check the row count\n",
    "print(df_toronto_LL.shape)"
   ]
  },
  {
   "cell_type": "markdown",
   "metadata": {},
   "source": [
    "##### Merge the two dataframes into one by PostalCode"
   ]
  },
  {
   "cell_type": "code",
   "execution_count": 11,
   "metadata": {},
   "outputs": [
    {
     "name": "stdout",
     "output_type": "stream",
     "text": [
      "(103, 5)\n",
      "\n",
      "  PostalCode           Borough                      Neighborhood   Latitude  \\\n",
      "0        M3A        North York                         Parkwoods  43.753259   \n",
      "1        M4A        North York                  Victoria Village  43.725882   \n",
      "2        M5A  Downtown Toronto         Harbourfront, Regent Park  43.654260   \n",
      "3        M6A        North York  Lawrence Heights, Lawrence Manor  43.718518   \n",
      "4        M7A      Queen's Park                      Queen's Park  43.662301   \n",
      "5        M9A         Etobicoke                  Islington Avenue  43.667856   \n",
      "6        M1B       Scarborough                    Rouge, Malvern  43.806686   \n",
      "7        M3B        North York                   Don Mills North  43.745906   \n",
      "8        M4B         East York   Woodbine Gardens, Parkview Hill  43.706397   \n",
      "9        M5B  Downtown Toronto          Ryerson, Garden District  43.657162   \n",
      "\n",
      "   Longitude  \n",
      "0 -79.329656  \n",
      "1 -79.315572  \n",
      "2 -79.360636  \n",
      "3 -79.464763  \n",
      "4 -79.389494  \n",
      "5 -79.532242  \n",
      "6 -79.194353  \n",
      "7 -79.352188  \n",
      "8 -79.309937  \n",
      "9 -79.378937  \n"
     ]
    }
   ],
   "source": [
    "df_toronto_all=pd.merge(df_toronto_new, df_toronto_LL, on='PostalCode', how='left')\n",
    "\n",
    "# Check the merged dataframe\n",
    "print(df_toronto_all.shape)\n",
    "print()\n",
    "print(df_toronto_all.head(10))"
   ]
  },
  {
   "cell_type": "code",
   "execution_count": null,
   "metadata": {},
   "outputs": [],
   "source": []
  }
 ],
 "metadata": {
  "kernelspec": {
   "display_name": "Python 3",
   "language": "python",
   "name": "python3"
  },
  "language_info": {
   "codemirror_mode": {
    "name": "ipython",
    "version": 3
   },
   "file_extension": ".py",
   "mimetype": "text/x-python",
   "name": "python",
   "nbconvert_exporter": "python",
   "pygments_lexer": "ipython3",
   "version": "3.6.6"
  },
  "widgets": {
   "state": {},
   "version": "1.1.2"
  }
 },
 "nbformat": 4,
 "nbformat_minor": 2
}
