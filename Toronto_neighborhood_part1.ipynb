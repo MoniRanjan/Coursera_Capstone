{
 "cells": [
  {
   "cell_type": "markdown",
   "metadata": {},
   "source": [
    "## Introduction\n",
    "\n",
    "This notebook is used to demonstrate how to explore, segment, and cluster the neighborhoods in the city of Toronto."
   ]
  },
  {
   "cell_type": "markdown",
   "metadata": {},
   "source": [
    "##### Download the dependent packages and libraries"
   ]
  },
  {
   "cell_type": "code",
   "execution_count": 1,
   "metadata": {
    "collapsed": false
   },
   "outputs": [
    {
     "name": "stdout",
     "output_type": "stream",
     "text": [
      "Solving environment: done\n",
      "\n",
      "## Package Plan ##\n",
      "\n",
      "  environment location: /home/jupyterlab/conda\n",
      "\n",
      "  added / updated specs: \n",
      "    - geopy\n",
      "\n",
      "\n",
      "The following packages will be downloaded:\n",
      "\n",
      "    package                    |            build\n",
      "    ---------------------------|-----------------\n",
      "    geopy-1.18.1               |             py_0          51 KB  conda-forge\n",
      "    geographiclib-1.49         |             py_0          32 KB  conda-forge\n",
      "    ------------------------------------------------------------\n",
      "                                           Total:          84 KB\n",
      "\n",
      "The following NEW packages will be INSTALLED:\n",
      "\n",
      "    geographiclib: 1.49-py_0     conda-forge\n",
      "\n",
      "The following packages will be UPDATED:\n",
      "\n",
      "    geopy:         1.11.0-py36_0 conda-forge --> 1.18.1-py_0 conda-forge\n",
      "\n",
      "\n",
      "Downloading and Extracting Packages\n",
      "geopy-1.18.1         | 51 KB     | ##################################### | 100% \n",
      "geographiclib-1.49   | 32 KB     | ##################################### | 100% \n",
      "Preparing transaction: done\n",
      "Verifying transaction: done\n",
      "Executing transaction: done\n",
      "Solving environment: done\n",
      "\n",
      "# All requested packages already installed.\n",
      "\n",
      "Libraries imported!\n"
     ]
    }
   ],
   "source": [
    "import numpy as np # handling data in vectorized manner\n",
    "\n",
    "import pandas as pd #for data analysis\n",
    "pd.set_option('display.max_columns',None)\n",
    "pd.set_option('display.max_rows',None)\n",
    "\n",
    "import json\n",
    "\n",
    "!conda install -c conda-forge geopy --yes\n",
    "from geopy.geocoders import Nominatim # to get latitude and logitute by giving address\n",
    "\n",
    "import requests\n",
    "from pandas.io.json import json_normalize # transform json file into pandas dataframe\n",
    "\n",
    "#import matplotlib modules\n",
    "import matplotlib.cm as cm\n",
    "import matplotlib.colors as colors\n",
    "\n",
    "#import k-means for clustering stage\n",
    "from sklearn.cluster import KMeans\n",
    "\n",
    "!conda install -c conda-forge folium=0.5.0 --yes\n",
    "import folium\n",
    "\n",
    "print('Libraries imported!')"
   ]
  },
  {
   "cell_type": "markdown",
   "metadata": {},
   "source": [
    "##### Read and get data from wikipedia into dataframe which will consist of ***three columns: PostalCode, Borough, and Neighborhood***"
   ]
  },
  {
   "cell_type": "code",
   "execution_count": 2,
   "metadata": {
    "collapsed": false
   },
   "outputs": [
    {
     "name": "stdout",
     "output_type": "stream",
     "text": [
      "  Postcode       Borough Neighbourhood\n",
      "0      M1A  Not assigned  Not assigned\n",
      "\n",
      "   PostalCode           Borough      Neighborhood\n",
      "0         M1A      Not assigned      Not assigned\n",
      "1         M2A      Not assigned      Not assigned\n",
      "2         M3A        North York         Parkwoods\n",
      "3         M4A        North York  Victoria Village\n",
      "4         M5A  Downtown Toronto      Harbourfront\n",
      "5         M5A  Downtown Toronto       Regent Park\n",
      "6         M6A        North York  Lawrence Heights\n",
      "7         M6A        North York    Lawrence Manor\n",
      "8         M7A      Queen's Park      Not assigned\n",
      "9         M8A      Not assigned      Not assigned\n",
      "10        M9A         Etobicoke  Islington Avenue\n",
      "11        M1B       Scarborough             Rouge\n",
      "12        M1B       Scarborough           Malvern\n",
      "13        M2B      Not assigned      Not assigned\n",
      "14        M3B        North York   Don Mills North\n",
      "\n",
      "289\n"
     ]
    }
   ],
   "source": [
    "#get the data from wikipedia into pandas dataframe\n",
    "url = 'https://en.wikipedia.org/wiki/List_of_postal_codes_of_Canada:_M'\n",
    "dfs_toronto = pd.read_html(url,header=0)\n",
    "\n",
    "# get the dataframe from the dataframe list\n",
    "df_toronto=dfs_toronto[0]\n",
    "print(df_toronto.head(1))\n",
    "print()\n",
    "\n",
    "# set the column names\n",
    "df_toronto.columns=['PostalCode','Borough','Neighborhood']\n",
    "\n",
    "#check data and row count\n",
    "print(df_toronto.head(15))\n",
    "print()\n",
    "print( df_toronto.shape[0])\n"
   ]
  },
  {
   "cell_type": "markdown",
   "metadata": {},
   "source": [
    "##### Only process the cells that have an assigned borough. Ignore cells with a borough that is ***Not assigned***"
   ]
  },
  {
   "cell_type": "code",
   "execution_count": 3,
   "metadata": {
    "collapsed": false
   },
   "outputs": [
    {
     "name": "stdout",
     "output_type": "stream",
     "text": [
      "  PostalCode           Borough      Neighborhood\n",
      "0        M3A        North York         Parkwoods\n",
      "1        M4A        North York  Victoria Village\n",
      "2        M5A  Downtown Toronto      Harbourfront\n",
      "3        M5A  Downtown Toronto       Regent Park\n",
      "4        M6A        North York  Lawrence Heights\n",
      "5        M6A        North York    Lawrence Manor\n",
      "6        M7A      Queen's Park      Not assigned\n",
      "7        M9A         Etobicoke  Islington Avenue\n",
      "8        M1B       Scarborough             Rouge\n",
      "9        M1B       Scarborough           Malvern\n",
      "\n",
      "212\n",
      "\n",
      "    PostalCode    Borough              Neighborhood\n",
      "202        M8Y  Etobicoke                 Mimico NE\n",
      "203        M8Y  Etobicoke            Old Mill South\n",
      "204        M8Y  Etobicoke        The Queensway East\n",
      "205        M8Y  Etobicoke     Royal York South East\n",
      "206        M8Y  Etobicoke                  Sunnylea\n",
      "207        M8Z  Etobicoke  Kingsway Park South West\n",
      "208        M8Z  Etobicoke                 Mimico NW\n",
      "209        M8Z  Etobicoke        The Queensway West\n",
      "210        M8Z  Etobicoke     Royal York South West\n",
      "211        M8Z  Etobicoke            South of Bloor\n"
     ]
    }
   ],
   "source": [
    "# ignore rows where borough is Not assigned \n",
    "missing_borough=['Not assigned']\n",
    "\n",
    "#removing the Not assigned Borough data in place\n",
    "df_toronto = df_toronto[~df_toronto['Borough'].isin(missing_borough)].reset_index(drop=True)\n",
    "\n",
    "#check result and row count\n",
    "print(df_toronto.head(10))\n",
    "print()\n",
    "print(df_toronto.shape[0])\n",
    "print()\n",
    "print(df_toronto.tail(10))"
   ]
  },
  {
   "cell_type": "markdown",
   "metadata": {},
   "source": [
    "##### Combine into ***one row all neighbourhoods seperated by comma, which belong to the same postal code area***"
   ]
  },
  {
   "cell_type": "code",
   "execution_count": 4,
   "metadata": {
    "collapsed": false
   },
   "outputs": [
    {
     "name": "stdout",
     "output_type": "stream",
     "text": [
      "(103, 3)\n",
      "  PostalCode           Borough                      Neighborhood\n",
      "0        M3A        North York                         Parkwoods\n",
      "1        M4A        North York                  Victoria Village\n",
      "2        M5A  Downtown Toronto         Harbourfront, Regent Park\n",
      "3        M6A        North York  Lawrence Heights, Lawrence Manor\n",
      "4        M7A      Queen's Park                      Not assigned\n",
      "5        M9A         Etobicoke                  Islington Avenue\n",
      "6        M1B       Scarborough                    Rouge, Malvern\n",
      "7        M3B        North York                   Don Mills North\n",
      "8        M4B         East York   Woodbine Gardens, Parkview Hill\n",
      "9        M5B  Downtown Toronto          Ryerson, Garden District\n",
      "    PostalCode           Borough  \\\n",
      "93         M8W         Etobicoke   \n",
      "94         M9W         Etobicoke   \n",
      "95         M1X       Scarborough   \n",
      "96         M4X  Downtown Toronto   \n",
      "97         M5X  Downtown Toronto   \n",
      "98         M8X         Etobicoke   \n",
      "99         M4Y  Downtown Toronto   \n",
      "100        M7Y      East Toronto   \n",
      "101        M8Y         Etobicoke   \n",
      "102        M8Z         Etobicoke   \n",
      "\n",
      "                                          Neighborhood  \n",
      "93                              Alderwood, Long Branch  \n",
      "94                                           Northwest  \n",
      "95                                         Upper Rouge  \n",
      "96                         Cabbagetown, St. James Town  \n",
      "97              First Canadian Place, Underground city  \n",
      "98       The Kingsway, Montgomery Road, Old Mill North  \n",
      "99                                Church and Wellesley  \n",
      "100  Business Reply Mail Processing Centre 969 Eastern  \n",
      "101  Humber Bay, King's Mill Park, Kingsway Park So...  \n",
      "102  Kingsway Park South West, Mimico NW, The Queen...  \n"
     ]
    }
   ],
   "source": [
    "df_toronto_new=pd.DataFrame( df_toronto.groupby(['PostalCode','Borough'], sort=False)['Neighborhood'].apply(lambda x: ', '.join(x)).reset_index(name='Neighborhood'))\n",
    "print(df_toronto_new.shape)\n",
    "print(df_toronto_new.head(10))\n",
    "print(df_toronto_new.tail(10))"
   ]
  },
  {
   "cell_type": "markdown",
   "metadata": {},
   "source": [
    "##### Do the following conversion: If a cell has a borough but a ***Not assigned neighborhood***, then ***the neighborhood will be the same as the borough***"
   ]
  },
  {
   "cell_type": "code",
   "execution_count": 5,
   "metadata": {
    "collapsed": true
   },
   "outputs": [
    {
     "name": "stdout",
     "output_type": "stream",
     "text": [
      "(103, 3)\n",
      "  PostalCode           Borough                      Neighborhood\n",
      "0        M3A        North York                         Parkwoods\n",
      "1        M4A        North York                  Victoria Village\n",
      "2        M5A  Downtown Toronto         Harbourfront, Regent Park\n",
      "3        M6A        North York  Lawrence Heights, Lawrence Manor\n",
      "4        M7A      Queen's Park                      Queen's Park\n",
      "5        M9A         Etobicoke                  Islington Avenue\n",
      "6        M1B       Scarborough                    Rouge, Malvern\n",
      "7        M3B        North York                   Don Mills North\n",
      "8        M4B         East York   Woodbine Gardens, Parkview Hill\n",
      "9        M5B  Downtown Toronto          Ryerson, Garden District\n"
     ]
    }
   ],
   "source": [
    "df_toronto_new['Neighborhood'] = np.where(df_toronto_new['Neighborhood'] == 'Not assigned', df_toronto_new['Borough'], df_toronto_new['Neighborhood'])\n",
    "print(df_toronto_new.shape)\n",
    "print(df_toronto_new.head(10))\n"
   ]
  },
  {
   "cell_type": "markdown",
   "metadata": {},
   "source": [
    "##### Display the ***number of rows in the dataframe***"
   ]
  },
  {
   "cell_type": "code",
   "execution_count": 6,
   "metadata": {
    "collapsed": false
   },
   "outputs": [
    {
     "name": "stdout",
     "output_type": "stream",
     "text": [
      "Number of rows and columns in the dataframe=  (103, 3)\n"
     ]
    }
   ],
   "source": [
    "print(\"Number of rows and columns in the dataframe= \", df_toronto_new.shape)"
   ]
  },
  {
   "cell_type": "code",
   "execution_count": null,
   "metadata": {},
   "outputs": [],
   "source": []
  },
  {
   "cell_type": "code",
   "execution_count": null,
   "metadata": {},
   "outputs": [],
   "source": []
  }
 ],
 "metadata": {
  "kernelspec": {
   "display_name": "Python 3",
   "language": "python",
   "name": "python3"
  },
  "language_info": {
   "codemirror_mode": {
    "name": "ipython",
    "version": 3
   },
   "file_extension": ".py",
   "mimetype": "text/x-python",
   "name": "python",
   "nbconvert_exporter": "python",
   "pygments_lexer": "ipython3",
   "version": "3.6.6"
  },
  "widgets": {
   "state": {},
   "version": "1.1.2"
  }
 },
 "nbformat": 4,
 "nbformat_minor": 2
}
